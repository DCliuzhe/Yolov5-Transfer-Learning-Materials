{
 "cells": [
  {
   "cell_type": "code",
   "execution_count": 5,
   "id": "1ed8411a-c0ce-455a-ba3a-913846622bb8",
   "metadata": {},
   "outputs": [],
   "source": [
    "import os\n",
    "\n",
    "def get_file_addresses(folder_path, limit=None):\n",
    "    file_addresses = []\n",
    "    count = 0\n",
    "    for root, dirs, files in os.walk(folder_path):\n",
    "        for file in files:\n",
    "            if limit is not None and count >= limit:\n",
    "                break\n",
    "            file_path = os.path.join(root, file)\n",
    "            file_addresses.append(file_path)\n",
    "            count += 1\n",
    "        if limit is not None and count >= limit:\n",
    "            break\n",
    "    return file_addresses\n",
    "\n",
    "def write_to_txt(file_addresses, output_file):\n",
    "    with open(output_file, 'w') as f:\n",
    "        for address in file_addresses:\n",
    "            f.write(address + '\\n')\n",
    "\n",
    "# 设置文件夹路径、输出文件名和文件个数限制\n",
    "folder_path = './valid/images'\n",
    "output_file = 'valid.txt'\n",
    "file_limit = 1000  # 设置读取的文件个数限制\n",
    "\n",
    "# 获取文件地址列表\n",
    "addresses = get_file_addresses(folder_path, file_limit)\n",
    "\n",
    "# 写入txt文件\n",
    "write_to_txt(addresses, output_file)\n"
   ]
  },
  {
   "cell_type": "code",
   "execution_count": null,
   "id": "25f3de42-8238-4692-a2ac-74cf21302c21",
   "metadata": {},
   "outputs": [],
   "source": []
  }
 ],
 "metadata": {
  "kernelspec": {
   "display_name": "Python 3",
   "language": "python",
   "name": "python3"
  },
  "language_info": {
   "codemirror_mode": {
    "name": "ipython",
    "version": 3
   },
   "file_extension": ".py",
   "mimetype": "text/x-python",
   "name": "python",
   "nbconvert_exporter": "python",
   "pygments_lexer": "ipython3",
   "version": "3.8.8"
  }
 },
 "nbformat": 4,
 "nbformat_minor": 5
}
